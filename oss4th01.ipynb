{
  "nbformat": 4,
  "nbformat_minor": 0,
  "metadata": {
    "colab": {
      "provenance": [],
      "authorship_tag": "ABX9TyPq9HlYzaNMGvaRMj6TC0D0",
      "include_colab_link": true
    },
    "kernelspec": {
      "name": "python3",
      "display_name": "Python 3"
    },
    "language_info": {
      "name": "python"
    }
  },
  "cells": [
    {
      "cell_type": "markdown",
      "metadata": {
        "id": "view-in-github",
        "colab_type": "text"
      },
      "source": [
        "<a href=\"https://colab.research.google.com/github/Narae00/oss4thStudy/blob/main/oss4th01.ipynb\" target=\"_parent\"><img src=\"https://colab.research.google.com/assets/colab-badge.svg\" alt=\"Open In Colab\"/></a>"
      ]
    },
    {
      "cell_type": "markdown",
      "source": [
        "#공학용 계산기 개발의 필요성\n",
        "본 프로젝트는 많은 학생들이 공학용 계산기를 구매해야 하는 문제를 해결하기 위해 만들었습니다. 예를 들면, $x^6$ 을 개발하는게 어렵습니다.# 새 섹션"
      ],
      "metadata": {
        "id": "LtlMwa0bFsdi"
      }
    },
    {
      "cell_type": "markdown",
      "source": [
        "##초기값 입력\n",
        "계산을 원하는 값을 설정해주세요"
      ],
      "metadata": {
        "id": "SI15l_zNI1p4"
      }
    },
    {
      "cell_type": "code",
      "source": [
        "slider_value = 142  # @param {type: \"slider\", min: 100, max: 200}\n",
        "x = 100 # @param {type: \"number\"}\n",
        "y = 102 # @param {type: \"number\"}\n",
        "date = '2010-11-05'  # @param {type: \"date\"}\n",
        "pick_me = \"monday\"  # @param ['monday', 'tuesday', 'wednesday', 'thursday']\n",
        "select_or_input = \"apples\" # @param [\"apples\", \"bananas\", \"oranges\"] {allow-input: true}\n",
        "# @markdown ---\n"
      ],
      "metadata": {
        "id": "OzyjEUj4I-pf"
      },
      "execution_count": 22,
      "outputs": []
    },
    {
      "cell_type": "markdown",
      "source": [
        "#지수 값 구하기"
      ],
      "metadata": {
        "id": "AlLIReigFwUa"
      }
    },
    {
      "cell_type": "code",
      "source": [
        "\n",
        "\n",
        "x6 = x*x*x*x*x*x\n",
        "\n",
        "if x6 > 2000000:\n",
        "  print('너무 큰 수를 입력하셨습니다.')\n",
        "x6"
      ],
      "metadata": {
        "colab": {
          "base_uri": "https://localhost:8080/"
        },
        "id": "_KLSVFOCGDvx",
        "outputId": "7b8052a0-1504-4292-dc31-2f0c97a4ea7a"
      },
      "execution_count": 23,
      "outputs": [
        {
          "output_type": "stream",
          "name": "stdout",
          "text": [
            "너무 큰 수를 입력하셨습니다.\n"
          ]
        },
        {
          "output_type": "execute_result",
          "data": {
            "text/plain": [
              "1000000000000"
            ]
          },
          "metadata": {},
          "execution_count": 23
        }
      ]
    }
  ]
}